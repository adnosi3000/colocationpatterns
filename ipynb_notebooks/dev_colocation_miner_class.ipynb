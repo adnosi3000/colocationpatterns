{
 "cells": [
  {
   "cell_type": "code",
   "execution_count": 8,
   "id": "1489d90d-1b7f-4a2e-b00a-e38293641774",
   "metadata": {},
   "outputs": [],
   "source": [
    "from itertools import combinations\n",
    "from math import factorial\n",
    "\n",
    "import pandas as pd\n",
    "from geopandas import GeoDataFrame, sjoin\n",
    "from colocationpatterns.sample_data import generate_sample_data"
   ]
  },
  {
   "cell_type": "code",
   "execution_count": 48,
   "id": "b86bcdd4-cf3d-4d49-be9f-1f81cecd32fd",
   "metadata": {},
   "outputs": [],
   "source": [
    "class ColocationMiner:\n",
    "\n",
    "    def __init__(self, data: GeoDataFrame, feature_type_column: str, feature_type_unique_id_column: str, neighbourhood: float):\n",
    "\n",
    "        self.neighbourhood = neighbourhood\n",
    "        self.K = data[feature_type_column].nunique()\n",
    "        self.tables = [feature_type_data for feature_name, feature_type_data in data.groupby(by=feature_type_column, as_index=False)]\n",
    "        self.table_ids_iterator = iter(range(0, sum(((factorial(self.K))//(factorial(i)*factorial(self.K-i)) for i in range(1, self.K+1)))))\n",
    "        self.k_level_tables_ids = {1: [next(self.table_ids_iterator) for _ in range(self.K)]}\n",
    "\n",
    "    def calculate_participation_ratio(self):\n",
    "\n",
    "        pass\n",
    "\n",
    "    def calculate_participation_index(self):\n",
    "\n",
    "        pass\n",
    "\n",
    "    def __call__(self):\n",
    "\n",
    "        for k in range(2, self.K+1):\n",
    "            self.k_level_tables_ids[k] = list()            \n",
    "            for table_comb_ids in combinations(self.k_level_tables_ids[1], k):\n",
    "                print(f'Creating table k_level = {k} for tables {table_comb_ids}')\n",
    "               \n",
    "                table = pd.concat(\n",
    "                    [sjoin(self.tables[ti], self.tables[tj], how='inner', predicate='dwithin', distance=self.neighbourhood)\n",
    "                        for ti, tj in zip(table_comb_ids[0::-1], table_comb_ids[1::])\n",
    "                    ]\n",
    "                )\n",
    "                # TODO: Nie działa dla k >=3, tabele źle się łączą!!!\n",
    "                self.tables.append(table)\n",
    "            \n",
    "                self.k_level_tables_ids[k].append(next(self.table_ids_iterator))\n",
    "            \n",
    "       \n",
    "            "
   ]
  },
  {
   "cell_type": "code",
   "execution_count": 49,
   "id": "f7485bdb-c69c-4994-85bf-82e0950eb137",
   "metadata": {},
   "outputs": [],
   "source": [
    "data = generate_sample_data()"
   ]
  },
  {
   "cell_type": "code",
   "execution_count": 50,
   "id": "d38ccb04-3cde-438a-84a4-92e3801046b2",
   "metadata": {},
   "outputs": [],
   "source": [
    "cm = ColocationMiner(data, 'spatial_feature_type', 'instance_id', 3)"
   ]
  },
  {
   "cell_type": "code",
   "execution_count": 51,
   "id": "14762623-4127-418f-90bb-9274d316ee13",
   "metadata": {},
   "outputs": [
    {
     "name": "stdout",
     "output_type": "stream",
     "text": [
      "Creating table k_level = 2 for tables (0, 1)\n",
      "Creating table k_level = 2 for tables (0, 2)\n",
      "Creating table k_level = 2 for tables (1, 2)\n",
      "Creating table k_level = 3 for tables (0, 1, 2)\n"
     ]
    }
   ],
   "source": [
    "cm()"
   ]
  },
  {
   "cell_type": "code",
   "execution_count": 25,
   "id": "2dd05cec-c6ec-428d-a914-3c86414c1385",
   "metadata": {},
   "outputs": [
    {
     "data": {
      "text/plain": [
       "{1: [0, 1, 2], 2: [3, 4, 5], 3: [6]}"
      ]
     },
     "execution_count": 25,
     "metadata": {},
     "output_type": "execute_result"
    }
   ],
   "source": [
    "cm.k_level_tables_ids"
   ]
  },
  {
   "cell_type": "code",
   "execution_count": 63,
   "id": "8ea74e1a-2938-4520-866a-1f46b8408222",
   "metadata": {},
   "outputs": [
    {
     "data": {
      "text/html": [
       "<div>\n",
       "<style scoped>\n",
       "    .dataframe tbody tr th:only-of-type {\n",
       "        vertical-align: middle;\n",
       "    }\n",
       "\n",
       "    .dataframe tbody tr th {\n",
       "        vertical-align: top;\n",
       "    }\n",
       "\n",
       "    .dataframe thead th {\n",
       "        text-align: right;\n",
       "    }\n",
       "</style>\n",
       "<table border=\"1\" class=\"dataframe\">\n",
       "  <thead>\n",
       "    <tr style=\"text-align: right;\">\n",
       "      <th></th>\n",
       "      <th>instance_id_left</th>\n",
       "      <th>spatial_feature_type_left</th>\n",
       "      <th>geometry</th>\n",
       "      <th>index_right</th>\n",
       "      <th>instance_id_right</th>\n",
       "      <th>spatial_feature_type_right</th>\n",
       "    </tr>\n",
       "  </thead>\n",
       "  <tbody>\n",
       "    <tr>\n",
       "      <th>0</th>\n",
       "      <td>1</td>\n",
       "      <td>A</td>\n",
       "      <td>POINT (1.75 1.75)</td>\n",
       "      <td>4</td>\n",
       "      <td>1</td>\n",
       "      <td>B</td>\n",
       "    </tr>\n",
       "    <tr>\n",
       "      <th>1</th>\n",
       "      <td>2</td>\n",
       "      <td>A</td>\n",
       "      <td>POINT (5.45 3.75)</td>\n",
       "      <td>7</td>\n",
       "      <td>4</td>\n",
       "      <td>B</td>\n",
       "    </tr>\n",
       "    <tr>\n",
       "      <th>2</th>\n",
       "      <td>3</td>\n",
       "      <td>A</td>\n",
       "      <td>POINT (8.5 3.25)</td>\n",
       "      <td>7</td>\n",
       "      <td>4</td>\n",
       "      <td>B</td>\n",
       "    </tr>\n",
       "  </tbody>\n",
       "</table>\n",
       "</div>"
      ],
      "text/plain": [
       "   instance_id_left spatial_feature_type_left           geometry  index_right  \\\n",
       "0                 1                         A  POINT (1.75 1.75)            4   \n",
       "1                 2                         A  POINT (5.45 3.75)            7   \n",
       "2                 3                         A   POINT (8.5 3.25)            7   \n",
       "\n",
       "   instance_id_right spatial_feature_type_right  \n",
       "0                  1                          B  \n",
       "1                  4                          B  \n",
       "2                  4                          B  "
      ]
     },
     "execution_count": 63,
     "metadata": {},
     "output_type": "execute_result"
    }
   ],
   "source": [
    "cm.tables[6]"
   ]
  },
  {
   "cell_type": "code",
   "execution_count": null,
   "id": "9f7bff1b-4b9a-4e94-8437-90dad571cede",
   "metadata": {},
   "outputs": [],
   "source": []
  }
 ],
 "metadata": {
  "kernelspec": {
   "display_name": "Python 3 (ipykernel)",
   "language": "python",
   "name": "python3"
  },
  "language_info": {
   "codemirror_mode": {
    "name": "ipython",
    "version": 3
   },
   "file_extension": ".py",
   "mimetype": "text/x-python",
   "name": "python",
   "nbconvert_exporter": "python",
   "pygments_lexer": "ipython3",
   "version": "3.11.0"
  }
 },
 "nbformat": 4,
 "nbformat_minor": 5
}
