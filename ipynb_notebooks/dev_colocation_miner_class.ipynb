{
 "cells": [
  {
   "cell_type": "code",
   "execution_count": 1,
   "id": "1489d90d-1b7f-4a2e-b00a-e38293641774",
   "metadata": {},
   "outputs": [],
   "source": [
    "from itertools import combinations\n",
    "from math import factorial\n",
    "\n",
    "import pandas as pd\n",
    "from shapely import intersection\n",
    "from geopandas import GeoDataFrame, sjoin\n",
    "from colocationpatterns.sample_data import generate_sample_data"
   ]
  },
  {
   "cell_type": "code",
   "execution_count": 2,
   "id": "b86bcdd4-cf3d-4d49-be9f-1f81cecd32fd",
   "metadata": {},
   "outputs": [],
   "source": [
    "class ColocationMiner:\n",
    "\n",
    "    def __init__(self, data: GeoDataFrame, feature_type_column: str, feature_type_unique_id_column: str, neighbourhood: float):\n",
    "\n",
    "        self.data = data # all events instances (id, event tpy, location, other attributes)\n",
    "        self.feature_type_column = feature_type_column # column to recognize event type\n",
    "        self.feature_type_unique_id_column = feature_type_unique_id_column # column with id unique within event type\n",
    "        self.ET = set(data[feature_type_column].unique()) # set of event types\n",
    "        self.R = neighbourhood # max distance to consider neighbour as colocation\n",
    "        self.K = data[feature_type_column].nunique() # number of event types\n",
    "        # self.table_ids_iterator = iter(range(0, sum(((factorial(self.K))//(factorial(i)*factorial(self.K-i)) for i in range(1, self.K+1)))))\n",
    "        self.tables = {k: {} for k in range(1, self.K+1)} # structure to store tables based on size-k colocation\n",
    "\n",
    "    def calculate_participation_ratio(self):\n",
    "\n",
    "        pass\n",
    "\n",
    "    def calculate_participation_index(self):\n",
    "\n",
    "        pass\n",
    "\n",
    "    def merge_by_neighbourhood(self, tables_id:tuple):\n",
    "\n",
    "        result = cm.tables[1][tables_id[0]].copy()\n",
    "        result['geometry'] = result['geometry'].buffer(self.R)\n",
    "        \n",
    "        for table_id in tables_id[1::]:\n",
    "        \n",
    "            table = cm.tables[1][table_id].copy()\n",
    "            merged = sjoin(result, table)\n",
    "            if merged.empty: return None\n",
    "            merged.drop(columns='index_right', inplace=True)\n",
    "            merged = pd.merge(merged, table, left_on=table_id, right_on=table_id)\n",
    "            merged['geometry_y'] = merged['geometry_y'].buffer(self.R)\n",
    "            merged['geometry'] = merged.apply(lambda row: intersection(row['geometry_x'], row['geometry_y']), axis=1)\n",
    "            result = merged.drop(columns=['geometry_x', 'geometry_y'])\n",
    "    \n",
    "        return result\n",
    "    \n",
    "    \n",
    "    def __call__(self):\n",
    "\n",
    "        # Generate co-location candidates and compute statistics\n",
    "        for k in range(1, self.K+1):\n",
    "            \n",
    "            for table_comb_ids in combinations(self.ET, k):\n",
    "\n",
    "                if k == 1: # elementary tables\n",
    "                    print('Creating elementary tables')\n",
    "                    self.tables[k] =  { table_id:\n",
    "                        GeoDataFrame(\n",
    "                            [{\n",
    "                                table_id: getattr(event, self.feature_type_unique_id_column),\n",
    "                                'geometry': event.geometry\n",
    "                            } for event in table[[self.feature_type_unique_id_column, 'geometry']].itertuples()]\n",
    "                        ) for table_id, table in self.data.groupby(by=self.feature_type_column, as_index=False)\n",
    "                    }\n",
    "                    break\n",
    "\n",
    "                \n",
    "\n",
    "                print(f'Creating table k_level = {k} for tables {table_comb_ids}')\n",
    "                table = self.merge_by_neighbourhood(table_comb_ids)\n",
    "                \n",
    "                self.tables[k][table_comb_ids] = table\n",
    "            \n",
    "\n",
    "            \n",
    "       \n",
    "            "
   ]
  },
  {
   "cell_type": "code",
   "execution_count": 3,
   "id": "f7485bdb-c69c-4994-85bf-82e0950eb137",
   "metadata": {},
   "outputs": [],
   "source": [
    "data = generate_sample_data()"
   ]
  },
  {
   "cell_type": "code",
   "execution_count": 4,
   "id": "d38ccb04-3cde-438a-84a4-92e3801046b2",
   "metadata": {},
   "outputs": [],
   "source": [
    "cm = ColocationMiner(data, 'spatial_feature_type', 'instance_id', 3)"
   ]
  },
  {
   "cell_type": "code",
   "execution_count": 5,
   "id": "14762623-4127-418f-90bb-9274d316ee13",
   "metadata": {},
   "outputs": [
    {
     "name": "stdout",
     "output_type": "stream",
     "text": [
      "Creating elementary tables\n",
      "Creating table k_level = 2 for tables ('B', 'A')\n",
      "Creating table k_level = 2 for tables ('B', 'C')\n",
      "Creating table k_level = 2 for tables ('A', 'C')\n",
      "Creating table k_level = 3 for tables ('B', 'A', 'C')\n"
     ]
    }
   ],
   "source": [
    "cm()"
   ]
  },
  {
   "cell_type": "code",
   "execution_count": 6,
   "id": "a7c63c75-7cd9-471f-96a8-11690b81ee6f",
   "metadata": {},
   "outputs": [
    {
     "data": {
      "text/plain": [
       "{1: {'A':    A           geometry\n",
       "  0  1  POINT (1.75 1.75)\n",
       "  1  2  POINT (5.45 3.75)\n",
       "  2  3   POINT (8.5 3.25)\n",
       "  3  4     POINT (4.25 5),\n",
       "  'B':    B            geometry\n",
       "  0  1     POINT (2.1 0.5)\n",
       "  1  2  POINT (10.65 0.85)\n",
       "  2  3   POINT (13.74 3.9)\n",
       "  3  4   POINT (6.25 1.35)\n",
       "  4  5      POINT (15.1 6),\n",
       "  'C':    C          geometry\n",
       "  0  1    POINT (8.65 1)\n",
       "  1  2   POINT (0.1 3.3)\n",
       "  2  3  POINT (14.2 5.5)},\n",
       " 2: {('B',\n",
       "   'A'):    B  A                                           geometry\n",
       "  0  1  1  POLYGON ((-0.9 0.5, -0.88555 0.79405, -0.84236...\n",
       "  1  4  3  POLYGON ((9.23555 1.05595, 9.19236 0.76473, 9....\n",
       "  2  4  2  POLYGON ((3.30764 1.93527, 3.37918 2.22085, 3....,\n",
       "  ('B',\n",
       "   'C'):    B  C                                           geometry\n",
       "  0  2  1  POLYGON ((9.23581 -1.79576, 8.98329 -1.64441, ...\n",
       "  1  3  3  POLYGON ((11.24559 5.56671, 11.42097 5.80318, ...\n",
       "  2  4  1  POLYGON ((9.23555 1.05595, 9.19236 0.76473, 9....\n",
       "  3  5  3  POLYGON ((15.97085 3.12918, 15.68527 3.05764, ...,\n",
       "  ('A',\n",
       "   'C'):    A  C                                           geometry\n",
       "  0  1  2  POLYGON ((-1.02164 0.60195, -1.12082 0.87915, ...\n",
       "  1  3  1  POLYGON ((11.27164 2.10195, 11.14576 1.83581, ...},\n",
       " 3: {('B',\n",
       "   'A',\n",
       "   'C'):    B  A  C                                           geometry\n",
       "  0  4  3  1  POLYGON ((9.19236 0.76473, 9.12082 0.47915, 9....}}"
      ]
     },
     "execution_count": 6,
     "metadata": {},
     "output_type": "execute_result"
    }
   ],
   "source": [
    "cm.tables"
   ]
  },
  {
   "cell_type": "markdown",
   "id": "d0ca0411-1a6e-431d-a882-05143a148687",
   "metadata": {},
   "source": []
  },
  {
   "cell_type": "code",
   "execution_count": null,
   "id": "167e46e6-9667-43d3-aa11-2c65277d0741",
   "metadata": {},
   "outputs": [],
   "source": []
  }
 ],
 "metadata": {
  "kernelspec": {
   "display_name": "Python 3 (ipykernel)",
   "language": "python",
   "name": "python3"
  },
  "language_info": {
   "codemirror_mode": {
    "name": "ipython",
    "version": 3
   },
   "file_extension": ".py",
   "mimetype": "text/x-python",
   "name": "python",
   "nbconvert_exporter": "python",
   "pygments_lexer": "ipython3",
   "version": "3.11.0"
  }
 },
 "nbformat": 4,
 "nbformat_minor": 5
}
