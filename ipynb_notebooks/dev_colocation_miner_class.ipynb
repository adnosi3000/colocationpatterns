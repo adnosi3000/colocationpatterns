{
 "cells": [
  {
   "cell_type": "code",
   "execution_count": 1,
   "id": "1489d90d-1b7f-4a2e-b00a-e38293641774",
   "metadata": {},
   "outputs": [],
   "source": [
    "from itertools import combinations\n",
    "\n",
    "import pandas as pd\n",
    "from shapely import intersection\n",
    "from geopandas import GeoDataFrame, sjoin\n",
    "from colocationpatterns.sample_data import generate_sample_data"
   ]
  },
  {
   "cell_type": "code",
   "execution_count": 2,
   "id": "b86bcdd4-cf3d-4d49-be9f-1f81cecd32fd",
   "metadata": {},
   "outputs": [],
   "source": [
    "class ColocationMiner:\n",
    "\n",
    "    def __init__(\n",
    "        self,\n",
    "        data: GeoDataFrame,\n",
    "        feature_type_column: str,\n",
    "        feature_type_unique_id_column: str,\n",
    "        neighbourhood: float\n",
    "    ):\n",
    "\n",
    "        self.data = data # all events instances (id, event tpy, location, other attributes)\n",
    "        self.feature_type_column = feature_type_column # column to recognize event type\n",
    "        self.feature_type_unique_id_column = feature_type_unique_id_column # column with id unique within event type\n",
    "        self.ET = set(data[feature_type_column].unique()) # set of event types\n",
    "        self.K = data[feature_type_column].nunique() # number of event types\n",
    "        self.R = neighbourhood # radius to set euclidean, neighbourhood relation\n",
    "        self.tables = {k: {} for k in range(2, self.K+1)} # structure to store tables based on size-k colocation\n",
    "        self.statistics = None\n",
    "        self.colocations = None\n",
    "\n",
    "    def calculate_participation_ratio(self, candidate_table, feature_type):\n",
    "\n",
    "        all_feature_types = len(self.get_elementary_table(feature_type))\n",
    "        features_in_colocation = candidate_table[feature_type].nunique()\n",
    "\n",
    "        return features_in_colocation/all_feature_types\n",
    "\n",
    "    def calculate_participation_index(self, participation_ratios):\n",
    "\n",
    "        return min(participation_ratios)\n",
    "\n",
    "    def calculate_conditional_probalility(self):\n",
    "\n",
    "        pass\n",
    "\n",
    "    def get_elementary_table(self, feature_type):\n",
    "\n",
    "        return GeoDataFrame([{\n",
    "            feature_type: getattr(event, self.feature_type_unique_id_column),\n",
    "            'geometry': event.geometry\n",
    "        } for event in self.data[self.data[self.feature_type_column]==feature_type].itertuples()])\n",
    "\n",
    "    def merge_by_neighbourhood(self, tables_id:tuple):\n",
    "    \n",
    "        result = self.get_elementary_table(tables_id[0])    \n",
    "        result['geometry'] = result['geometry'].buffer(self.R)\n",
    "        \n",
    "        for table_id in tables_id[1::]:\n",
    "\n",
    "            table = self.get_elementary_table(table_id)\n",
    "            merged = sjoin(result, table)\n",
    "            if merged.empty: return None\n",
    "            merged.drop(columns='index_right', inplace=True)\n",
    "            merged = pd.merge(merged, table, left_on=table_id, right_on=table_id)\n",
    "            merged['geometry_y'] = merged['geometry_y'].buffer(self.R)\n",
    "            merged['geometry'] = merged.apply(lambda row: intersection(row['geometry_x'], row['geometry_y']), axis=1)\n",
    "            result = merged.drop(columns=['geometry_x', 'geometry_y'])\n",
    "    \n",
    "        return result\n",
    "    \n",
    "    \n",
    "    def mine(self, min_participation_index: float, store_higher_lvl_tables:bool=False, verbose:bool=False):\n",
    "\n",
    "        statistics = {}\n",
    "\n",
    "        # Generate co-location candidates and compute statistics\n",
    "        for k in range(2, self.K+1):\n",
    "            \n",
    "            for colocation in combinations(self.ET, k):\n",
    "\n",
    "                if verbose: print(f'Creating table k_level = {k} for tables {colocation}')\n",
    "                table = self.merge_by_neighbourhood(colocation)\n",
    "                if table is None:\n",
    "                    if verbose: print(f'No points for co-location candidate {colocation} to match neighbourhood definition R={self.R}')\n",
    "                    continue\n",
    "                if store_higher_lvl_tables:\n",
    "                    self.tables[k][colocation] = table\n",
    "                \n",
    "                statistics[colocation] = {'participation_ratios': {}}\n",
    "                for feature_type in colocation:\n",
    "                    pr = self.calculate_participation_ratio(table, feature_type)\n",
    "                    statistics[colocation]['participation_ratios'][feature_type] = pr\n",
    "                    if verbose: print(f'\\tParticipation ratio for {feature_type} in colocation {colocation} is {pr}')\n",
    "                \n",
    "                pi = self.calculate_participation_index(statistics[colocation]['participation_ratios'].values())\n",
    "                statistics[colocation]['participation_index'] = pi\n",
    "                if verbose: print(f'\\tParticipation index for colocation {colocation} is {pi}')\n",
    "\n",
    "                statistics[colocation]['colocation'] = pi >= min_participation_index\n",
    "    \n",
    "        self.statistics = statistics\n",
    "        self.colocations = list(filter(lambda key: self.statistics[key]['colocation'], self.statistics.keys()))\n",
    "\n",
    "        return self.colocations"
   ]
  },
  {
   "cell_type": "code",
   "execution_count": 3,
   "id": "f7485bdb-c69c-4994-85bf-82e0950eb137",
   "metadata": {},
   "outputs": [],
   "source": [
    "data = generate_sample_data()"
   ]
  },
  {
   "cell_type": "code",
   "execution_count": 24,
   "id": "d38ccb04-3cde-438a-84a4-92e3801046b2",
   "metadata": {},
   "outputs": [],
   "source": [
    "cm = ColocationMiner(data, 'spatial_feature_type', 'instance_id', 4)"
   ]
  },
  {
   "cell_type": "code",
   "execution_count": 25,
   "id": "14762623-4127-418f-90bb-9274d316ee13",
   "metadata": {},
   "outputs": [
    {
     "data": {
      "text/plain": [
       "[('C', 'A'), ('C', 'B'), ('A', 'B'), ('C', 'A', 'B')]"
      ]
     },
     "execution_count": 25,
     "metadata": {},
     "output_type": "execute_result"
    }
   ],
   "source": [
    "cm.mine(0.5, store_higher_lvl_tables=True)"
   ]
  },
  {
   "cell_type": "code",
   "execution_count": 26,
   "id": "5aac06d8-7fcf-46b4-93d5-eda7fb5dea34",
   "metadata": {},
   "outputs": [
    {
     "data": {
      "text/plain": [
       "{2: {('C',\n",
       "   'A'):    C  A                                           geometry\n",
       "  0  1  3  POLYGON ((4.82224 2.16114, 4.95448 2.53073, 5....\n",
       "  1  2  1  POLYGON ((4.08074 2.90793, 4.02314 2.51964, 3....,\n",
       "  ('C',\n",
       "   'B'):    C  B                                           geometry\n",
       "  0  1  2  POLYGON ((12.63074 0.60793, 12.57314 0.21964, ...\n",
       "  1  1  4  POLYGON ((6.76441 -2.52769, 6.42772 -2.32588, ...\n",
       "  2  2  1  POLYGON ((4.08074 2.90793, 4.02314 2.51964, 3....\n",
       "  3  3  3  POLYGON ((17.52588 3.27772, 17.29204 2.96243, ...\n",
       "  4  3  5  POLYGON ((18.18074 5.10793, 18.12314 4.71964, ...,\n",
       "  ('A',\n",
       "   'B'):    A  B                                           geometry\n",
       "  0  1  1  POLYGON ((5.73074 1.35793, 5.67314 0.96964, 5....\n",
       "  1  2  4  POLYGON ((9.43074 3.35793, 9.37314 2.96964, 9....\n",
       "  2  3  2  POLYGON ((12.48074 2.85793, 12.42314 2.46964, ...\n",
       "  3  3  4  POLYGON ((9.66114 -0.57776, 9.28036 -0.67314, ...},\n",
       " 3: {('C',\n",
       "   'A',\n",
       "   'B'):    C  A  B                                           geometry\n",
       "  0  1  3  2  POLYGON ((10.18073 4.69552, 10.53559 4.52769, ...\n",
       "  1  1  3  4  POLYGON ((4.95448 2.53073, 5.12231 2.88559, 5....\n",
       "  2  2  1  1  POLYGON ((4.02314 2.51964, 3.92776 2.13886, 3....}}"
      ]
     },
     "execution_count": 26,
     "metadata": {},
     "output_type": "execute_result"
    }
   ],
   "source": [
    "cm.tables"
   ]
  },
  {
   "cell_type": "code",
   "execution_count": 17,
   "id": "1c42fdac-3913-421e-a75b-b686a6be4493",
   "metadata": {},
   "outputs": [
    {
     "data": {
      "text/plain": [
       "{('C', 'A'): {'participation_ratios': {'C': 0.6666666666666666, 'A': 0.5},\n",
       "  'participation_index': 0.5,\n",
       "  'colocation': True},\n",
       " ('C', 'B'): {'participation_ratios': {'C': 1.0, 'B': 1.0},\n",
       "  'participation_index': 1.0,\n",
       "  'colocation': True},\n",
       " ('A', 'B'): {'participation_ratios': {'A': 0.75, 'B': 0.6},\n",
       "  'participation_index': 0.6,\n",
       "  'colocation': True},\n",
       " ('C',\n",
       "  'A',\n",
       "  'B'): {'participation_ratios': {'C': 0.6666666666666666,\n",
       "   'A': 0.5,\n",
       "   'B': 0.6}, 'participation_index': 0.5, 'colocation': True}}"
      ]
     },
     "execution_count": 17,
     "metadata": {},
     "output_type": "execute_result"
    }
   ],
   "source": [
    "cm.statistics"
   ]
  },
  {
   "cell_type": "code",
   "execution_count": null,
   "id": "874d491f-5040-4f05-b289-d464264bad3a",
   "metadata": {},
   "outputs": [],
   "source": []
  }
 ],
 "metadata": {
  "kernelspec": {
   "display_name": "Python 3 (ipykernel)",
   "language": "python",
   "name": "python3"
  },
  "language_info": {
   "codemirror_mode": {
    "name": "ipython",
    "version": 3
   },
   "file_extension": ".py",
   "mimetype": "text/x-python",
   "name": "python",
   "nbconvert_exporter": "python",
   "pygments_lexer": "ipython3",
   "version": "3.11.0"
  }
 },
 "nbformat": 4,
 "nbformat_minor": 5
}
