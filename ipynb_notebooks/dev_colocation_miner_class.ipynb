{
 "cells": [
  {
   "cell_type": "code",
   "execution_count": 11,
   "id": "1489d90d-1b7f-4a2e-b00a-e38293641774",
   "metadata": {},
   "outputs": [],
   "source": [
    "from itertools import combinations\n",
    "\n",
    "import pandas as pd\n",
    "from shapely import intersection\n",
    "from geopandas import GeoDataFrame, sjoin\n",
    "from colocationpatterns.sample_data import generate_sample_data"
   ]
  },
  {
   "cell_type": "code",
   "execution_count": 45,
   "id": "b86bcdd4-cf3d-4d49-be9f-1f81cecd32fd",
   "metadata": {},
   "outputs": [],
   "source": [
    "class ColocationMiner:\n",
    "\n",
    "    def __init__(\n",
    "        self,\n",
    "        data: GeoDataFrame,\n",
    "        feature_type_column: str,\n",
    "        feature_type_unique_id_column: str,\n",
    "        neighbourhood: float\n",
    "    ):\n",
    "\n",
    "        self.data = data # all events instances (id, event tpy, location, other attributes)\n",
    "        self.feature_type_column = feature_type_column # column to recognize event type\n",
    "        self.feature_type_unique_id_column = feature_type_unique_id_column # column with id unique within event type\n",
    "        self.ET = set(data[feature_type_column].unique()) # set of event types\n",
    "        self.K = data[feature_type_column].nunique() # number of event types\n",
    "        self.R = neighbourhood # radius to set euclidean, neighbourhood relation\n",
    "        self.tables = {k: {} for k in range(2, self.K+1)} # structure to store tables based on size-k colocation\n",
    "        self.statistics = None\n",
    "        self.colocations = None\n",
    "\n",
    "    def calculate_participation_ratio(self, candidate_table, feature_type):\n",
    "\n",
    "        all_feature_types = len(self.get_elementary_table(feature_type))\n",
    "        features_in_colocation = candidate_table[feature_type].nunique()\n",
    "\n",
    "        return features_in_colocation/all_feature_types\n",
    "\n",
    "    def calculate_participation_index(self, participation_ratios):\n",
    "\n",
    "        return min(participation_ratios)\n",
    "\n",
    "    def calculate_conditional_probalility(self):\n",
    "\n",
    "        pass\n",
    "\n",
    "    def get_elementary_table(self, feature_type):\n",
    "\n",
    "        return GeoDataFrame([{\n",
    "            feature_type: getattr(event, self.feature_type_unique_id_column),\n",
    "            'geometry': event.geometry\n",
    "        } for event in self.data[self.data[self.feature_type_column]==feature_type].itertuples()])\n",
    "\n",
    "    def merge_by_neighbourhood(self, tables_id:tuple):\n",
    "    \n",
    "        result = self.get_elementary_table(tables_id[0])    \n",
    "        result['geometry'] = result['geometry'].buffer(self.R)\n",
    "        \n",
    "        for table_id in tables_id[1::]:\n",
    "\n",
    "            table = self.get_elementary_table(table_id)\n",
    "            merged = sjoin(result, table)\n",
    "            if merged.empty: return None\n",
    "            merged.drop(columns='index_right', inplace=True)\n",
    "            merged = pd.merge(merged, table, left_on=table_id, right_on=table_id)\n",
    "            merged['geometry_y'] = merged['geometry_y'].buffer(self.R)\n",
    "            merged['geometry'] = merged.apply(lambda row: intersection(row['geometry_x'], row['geometry_y']), axis=1)\n",
    "            result = merged.drop(columns=['geometry_x', 'geometry_y'])\n",
    "    \n",
    "        return result\n",
    "    \n",
    "    \n",
    "    def mine(self, min_participation_index: float, store_higher_lvl_tables:bool=False, verbose:bool=False):\n",
    "\n",
    "        statistics = {}\n",
    "\n",
    "        # Generate co-location candidates and compute statistics\n",
    "        for k in range(2, self.K+1):\n",
    "            \n",
    "            for colocation in combinations(self.ET, k):\n",
    "\n",
    "                if verbose: print(f'Creating table k_level = {k} for tables {colocation}')\n",
    "                table = self.merge_by_neighbourhood(colocation)\n",
    "                if table is None:\n",
    "                    if verbose: print(f'No points for co-location candidate {colocation} to match neighbourhood definition R={self.R}')\n",
    "                    continue\n",
    "                if store_higher_lvl_tables:\n",
    "                    self.tables[k][colocation] = table\n",
    "                \n",
    "                statistics[colocation] = {'participation_ratios': {}}\n",
    "                for feature_type in colocation:\n",
    "                    pr = self.calculate_participation_ratio(table, feature_type)\n",
    "                    statistics[colocation]['participation_ratios'][feature_type] = pr\n",
    "                    if verbose: print(f'\\tParticipation ratio for {feature_type} in colocation {colocation} is {pr}')\n",
    "                \n",
    "                pi = self.calculate_participation_index(statistics[colocation]['participation_ratios'].values())\n",
    "                statistics[colocation]['participation_index'] = pi\n",
    "                if verbose: print(f'\\tParticipation index for colocation {colocation} is {pi}')\n",
    "\n",
    "                statistics[colocation]['colocation'] = pi >= min_participation_index\n",
    "    \n",
    "        self.statistics = statistics\n",
    "        self.colocations = list(filter(lambda key: self.statistics[key]['colocation'], self.statistics.keys()))\n",
    "\n",
    "        return self.colocations"
   ]
  },
  {
   "cell_type": "code",
   "execution_count": 46,
   "id": "f7485bdb-c69c-4994-85bf-82e0950eb137",
   "metadata": {},
   "outputs": [],
   "source": [
    "data = generate_sample_data()"
   ]
  },
  {
   "cell_type": "code",
   "execution_count": 47,
   "id": "d38ccb04-3cde-438a-84a4-92e3801046b2",
   "metadata": {},
   "outputs": [],
   "source": [
    "cm = ColocationMiner(data, 'spatial_feature_type', 'instance_id', 2.95)"
   ]
  },
  {
   "cell_type": "code",
   "execution_count": 56,
   "id": "14762623-4127-418f-90bb-9274d316ee13",
   "metadata": {},
   "outputs": [
    {
     "data": {
      "text/plain": [
       "[('C', 'B'), ('C', 'A')]"
      ]
     },
     "execution_count": 56,
     "metadata": {},
     "output_type": "execute_result"
    }
   ],
   "source": [
    "cm.mine(0.5, store_higher_lvl_tables=True)"
   ]
  },
  {
   "cell_type": "code",
   "execution_count": null,
   "id": "5aac06d8-7fcf-46b4-93d5-eda7fb5dea34",
   "metadata": {},
   "outputs": [],
   "source": []
  }
 ],
 "metadata": {
  "kernelspec": {
   "display_name": "Python 3 (ipykernel)",
   "language": "python",
   "name": "python3"
  },
  "language_info": {
   "codemirror_mode": {
    "name": "ipython",
    "version": 3
   },
   "file_extension": ".py",
   "mimetype": "text/x-python",
   "name": "python",
   "nbconvert_exporter": "python",
   "pygments_lexer": "ipython3",
   "version": "3.11.0"
  }
 },
 "nbformat": 4,
 "nbformat_minor": 5
}
