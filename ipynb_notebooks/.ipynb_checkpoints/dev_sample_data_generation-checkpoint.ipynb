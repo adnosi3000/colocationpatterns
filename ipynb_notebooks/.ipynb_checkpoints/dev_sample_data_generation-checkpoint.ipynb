{
 "cells": [
  {
   "cell_type": "code",
   "execution_count": 1,
   "id": "fd02deec-15c1-4e69-a7c8-e7788d729cf1",
   "metadata": {},
   "outputs": [],
   "source": [
    "import geopandas as gpd\n",
    "import matplotlib.pyplot as plt\n",
    "from shapely.geometry import Point"
   ]
  },
  {
   "cell_type": "code",
   "execution_count": 2,
   "id": "294b407a-f1c4-41ac-a3fb-214d18c502ee",
   "metadata": {},
   "outputs": [],
   "source": [
    "def generate_sample_data():\n",
    "\n",
    "    data = gpd.GeoDataFrame([\n",
    "        {'instance_id': 1, 'spatial_feature_type': 'A', 'geometry': Point(1.75, 1.75)},\n",
    "        {'instance_id': 2, 'spatial_feature_type': 'A', 'geometry': Point(5.45, 3.75)},\n",
    "        {'instance_id': 3, 'spatial_feature_type': 'A', 'geometry': Point(8.5, 3.25)},\n",
    "        {'instance_id': 4, 'spatial_feature_type': 'A', 'geometry': Point(4.25, 5)},\n",
    "        {'instance_id': 1, 'spatial_feature_type': 'B', 'geometry': Point(2.1, 0.5)},\n",
    "        {'instance_id': 2, 'spatial_feature_type': 'B', 'geometry': Point(10.65, 0.85)},\n",
    "        {'instance_id': 3, 'spatial_feature_type': 'B', 'geometry': Point(13.74, 3.9)},\n",
    "        {'instance_id': 4, 'spatial_feature_type': 'B', 'geometry': Point(6.25, 1.35)},\n",
    "        {'instance_id': 5, 'spatial_feature_type': 'B', 'geometry': Point(15.1, 6)},\n",
    "        {'instance_id': 1, 'spatial_feature_type': 'C', 'geometry': Point(8.65, 1)},\n",
    "        {'instance_id': 2, 'spatial_feature_type': 'C', 'geometry': Point(0.1, 3.3)},\n",
    "        {'instance_id': 3, 'spatial_feature_type': 'C', 'geometry': Point(14.2, 5.5)},\n",
    "    ])\n",
    "\n",
    "    return data"
   ]
  },
  {
   "cell_type": "code",
   "execution_count": 3,
   "id": "4df00b4b-ecd4-46c7-8d0d-5b9a46f5a8a5",
   "metadata": {},
   "outputs": [],
   "source": [
    "def plot_sample_data(sample_data: gpd.GeoDataFrame):\n",
    "\n",
    "    fig, ax = plt.subplots(figsize=(10, 5))\n",
    "    for category, data_category in sample_data.groupby(by='spatial_feature_type', as_index=False):\n",
    "        data_category.plot(\n",
    "            ax=ax,\n",
    "            marker={'A': 'o', 'B': 's', 'C': '^'}.get(category),\n",
    "            color={'A': 'blue', 'B': 'green', 'C': 'red'}.get(category),\n",
    "            label=category\n",
    "        )\n",
    "    ax.legend()\n",
    "    ax.set_title('Sample data spatial distribution')\n",
    "    ax.set_xlabel('X')\n",
    "    ax.set_ylabel('Y')\n",
    "    ax.set_xlim([-1, 16])\n",
    "    ax.set_ylim([0, 7])\n",
    "    for row in sample_data.itertuples():\n",
    "        ax.text(row.geometry.x+0.15, row.geometry.y+0.15, '.'.join([row.spatial_feature_type, str(row.instance_id)]))\n",
    "\n",
    "    return fig, ax"
   ]
  },
  {
   "cell_type": "code",
   "execution_count": 5,
   "id": "b7dec15e-06f2-4f58-8d8e-9d98d0661cd0",
   "metadata": {},
   "outputs": [],
   "source": [
    "plot_sample_data(generate_sample_data())"
   ]
  },
  {
   "cell_type": "code",
   "execution_count": null,
   "id": "11c92b39-279a-48d7-8cd5-26755b9b528b",
   "metadata": {},
   "outputs": [],
   "source": []
  }
 ],
 "metadata": {
  "kernelspec": {
   "display_name": "Python 3 (ipykernel)",
   "language": "python",
   "name": "python3"
  },
  "language_info": {
   "codemirror_mode": {
    "name": "ipython",
    "version": 3
   },
   "file_extension": ".py",
   "mimetype": "text/x-python",
   "name": "python",
   "nbconvert_exporter": "python",
   "pygments_lexer": "ipython3",
   "version": "3.11.0"
  }
 },
 "nbformat": 4,
 "nbformat_minor": 5
}
